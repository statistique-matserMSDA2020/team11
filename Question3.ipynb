{
 "cells": [
  {
   "cell_type": "markdown",
   "metadata": {},
   "source": [
    "# Qusetion 3"
   ]
  },
  {
   "cell_type": "code",
   "execution_count": 1,
   "metadata": {},
   "outputs": [],
   "source": [
    "#changement des librairies\n",
    "import numpy as np\n",
    "import matplotlib.pyplot as plt\n",
    "import pandas as pd\n",
    "import seaborn as sns"
   ]
  },
  {
   "cell_type": "markdown",
   "metadata": {},
   "source": [
    "## SQ.1"
   ]
  },
  {
   "cell_type": "code",
   "execution_count": 2,
   "metadata": {},
   "outputs": [],
   "source": [
    "#Lecture de la base smp\n",
    "smp=pd.read_csv(\"smp2.csv\", sep=\";\")"
   ]
  },
  {
   "cell_type": "code",
   "execution_count": 3,
   "metadata": {
    "scrolled": false
   },
   "outputs": [
    {
     "name": "stdout",
     "output_type": "stream",
     "text": [
      "      age                prof  duree  discip  n.enfant  n.fratrie  ecole  \\\n",
      "0    31.0               autre    4.0     0.0       2.0          4    1.0   \n",
      "1    49.0                 NaN    NaN     0.0       7.0          3    2.0   \n",
      "2    50.0  prof.intermediaire    5.0     0.0       2.0          2    2.0   \n",
      "3    47.0             ouvrier    NaN     0.0       0.0          6    1.0   \n",
      "4    23.0         sans emploi    4.0     1.0       1.0          6    1.0   \n",
      "..    ...                 ...    ...     ...       ...        ...    ...   \n",
      "794  28.0         sans emploi    5.0     0.0       1.0          4    1.0   \n",
      "795  44.0             ouvrier    4.0     1.0       1.0         12    2.0   \n",
      "796  31.0               cadre    4.0     0.0       3.0          6    4.0   \n",
      "797  38.0             employe    5.0     0.0       0.0          1    3.0   \n",
      "798  71.0               autre    4.0     0.0       2.0          4    1.0   \n",
      "\n",
      "     separation  juge.enfant  place  ...  subst.cons  scz.cons  char   rs  \\\n",
      "0           0.0          0.0    0.0  ...           0         0   1.0  2.0   \n",
      "1           1.0          0.0    0.0  ...           0         0   1.0  2.0   \n",
      "2           0.0          0.0    0.0  ...           0         0   1.0  2.0   \n",
      "3           1.0          0.0    1.0  ...           0         0   1.0  2.0   \n",
      "4           1.0          NaN    1.0  ...           0         0   1.0  2.0   \n",
      "..          ...          ...    ...  ...         ...       ...   ...  ...   \n",
      "794         NaN          1.0    0.0  ...           0         0   NaN  3.0   \n",
      "795         0.0          0.0    0.0  ...           0         0   1.0  1.0   \n",
      "796         1.0          1.0    1.0  ...           1         0   2.0  1.0   \n",
      "797         0.0          0.0    0.0  ...           0         0   1.0  1.0   \n",
      "798         1.0          0.0    0.0  ...           0         0   1.0  1.0   \n",
      "\n",
      "      ed   dr  suicide.s  suicide.hr  suicide.past  dur.interv  \n",
      "0    1.0  1.0        0.0         0.0           0.0         NaN  \n",
      "1    2.0  1.0        0.0         0.0           0.0        70.0  \n",
      "2    3.0  2.0        0.0         0.0           0.0         NaN  \n",
      "3    2.0  2.0        1.0         0.0           0.0       105.0  \n",
      "4    2.0  2.0        0.0         0.0           1.0         NaN  \n",
      "..   ...  ...        ...         ...           ...         ...  \n",
      "794  1.0  3.0        1.0         0.0           0.0        60.0  \n",
      "795  1.0  1.0        0.0         0.0           1.0       105.0  \n",
      "796  1.0  1.0        1.0         0.0           0.0       105.0  \n",
      "797  1.0  1.0        0.0         0.0           0.0        75.0  \n",
      "798  1.0  1.0        0.0         0.0           0.0        45.0  \n",
      "\n",
      "[799 rows x 26 columns]\n"
     ]
    }
   ],
   "source": [
    "print(smp)# tabulation de la base"
   ]
  },
  {
   "cell_type": "code",
   "execution_count": 4,
   "metadata": {},
   "outputs": [
    {
     "data": {
      "text/plain": [
       "Index(['age', 'prof', 'duree', 'discip', 'n.enfant', 'n.fratrie', 'ecole',\n",
       "       'separation', 'juge.enfant', 'place', 'abus', 'grav.cons', 'dep.cons',\n",
       "       'ago.cons', 'ptsd.cons', 'alc.cons', 'subst.cons', 'scz.cons', 'char',\n",
       "       'rs', 'ed', 'dr', 'suicide.s', 'suicide.hr', 'suicide.past',\n",
       "       'dur.interv'],\n",
       "      dtype='object')"
      ]
     },
     "execution_count": 4,
     "metadata": {},
     "output_type": "execute_result"
    }
   ],
   "source": [
    "smp.columns"
   ]
  },
  {
   "cell_type": "code",
   "execution_count": 5,
   "metadata": {},
   "outputs": [
    {
     "data": {
      "text/plain": [
       "(799, 26)"
      ]
     },
     "execution_count": 5,
     "metadata": {},
     "output_type": "execute_result"
    }
   ],
   "source": [
    "#vérification du nombre d'observation et du nombre de variables\n",
    "smp.shape"
   ]
  },
  {
   "cell_type": "markdown",
   "metadata": {},
   "source": [
    "## SQ.2"
   ]
  },
  {
   "cell_type": "code",
   "execution_count": 6,
   "metadata": {},
   "outputs": [
    {
     "data": {
      "text/plain": [
       "age             float64\n",
       "prof             object\n",
       "duree           float64\n",
       "discip          float64\n",
       "n.enfant        float64\n",
       "n.fratrie         int64\n",
       "ecole           float64\n",
       "separation      float64\n",
       "juge.enfant     float64\n",
       "place           float64\n",
       "abus            float64\n",
       "grav.cons       float64\n",
       "dep.cons          int64\n",
       "ago.cons          int64\n",
       "ptsd.cons         int64\n",
       "alc.cons          int64\n",
       "subst.cons        int64\n",
       "scz.cons          int64\n",
       "char            float64\n",
       "rs              float64\n",
       "ed              float64\n",
       "dr              float64\n",
       "suicide.s       float64\n",
       "suicide.hr      float64\n",
       "suicide.past    float64\n",
       "dur.interv      float64\n",
       "dtype: object"
      ]
     },
     "execution_count": 6,
     "metadata": {},
     "output_type": "execute_result"
    }
   ],
   "source": [
    "smp.dtypes# les types des variables dans la base"
   ]
  },
  {
   "cell_type": "code",
   "execution_count": 7,
   "metadata": {},
   "outputs": [],
   "source": [
    "# recodation des variables qualitatives\n",
    "def duree(series):\n",
    "    if series==1.0:\n",
    "        return 'Moins de 1 mois'\n",
    "    if series==2.0:\n",
    "        return '1 à 6 mois'\n",
    "    if series==3.0:\n",
    "        return '6 mois à 1 an'\n",
    "    if series==4.0:\n",
    "        return '1 à 5 ans'\n",
    "    if series==5.0:\n",
    "        return '5 ans ou plus'\n",
    "    else:\n",
    "        return series\n",
    "\n",
    "smp['duree']=smp['duree'].apply(duree)\n",
    "\n",
    "def discip1(series):\n",
    "    if series==0.0:\n",
    "        return 'non'\n",
    "    if series==1.0:\n",
    "        return 'oui'\n",
    "    else:\n",
    "        return series\n",
    "\n",
    "smp['discip']=smp['discip'].apply(discip1)\n",
    "\n",
    "def ecole(series):\n",
    "    if series==1.0:\n",
    "        return 'sans diplome'\n",
    "    if series==2.0:\n",
    "        return 'college'\n",
    "    if series==3.0:\n",
    "        return 'CAP,BEP'\n",
    "    if series==4.0:\n",
    "        return 'Lycee'\n",
    "    if series==5.0:\n",
    "        return 'universite'\n",
    "    else:\n",
    "        return series\n",
    "\n",
    "smp['ecole']=smp['ecole'].apply(ecole)\n",
    "\n",
    "def separation(series):\n",
    "    if series==0.0:\n",
    "        return 'non'\n",
    "    if series==1.0:\n",
    "        return 'oui'\n",
    "    else:\n",
    "        return series\n",
    "\n",
    "smp['separation']=smp['separation'].apply(separation)\n",
    "\n",
    "def jugeenfant(series):\n",
    "    if series==0.0:\n",
    "        return 'non'\n",
    "    if series==1.0:\n",
    "        return 'oui'\n",
    "    else:\n",
    "        return series\n",
    "\n",
    "smp['juge.enfant']=smp['juge.enfant'].apply(jugeenfant)\n",
    "\n",
    "def place(series):\n",
    "    if series==0.0:\n",
    "        return 'non'\n",
    "    if series==1.0:\n",
    "        return 'oui'\n",
    "    else:\n",
    "        return series\n",
    "\n",
    "smp['place']=smp['place'].apply(place)\n",
    "\n",
    "def abus(series):\n",
    "    if series==0.0:\n",
    "        return 'non'\n",
    "    if series==1.0:\n",
    "        return 'oui'\n",
    "    else:\n",
    "        return series\n",
    "\n",
    "smp['abus']=smp['abus'].apply(abus)\n",
    "\n",
    "def gravcons(series):\n",
    "    if series==1.0:\n",
    "        return 'normal'\n",
    "    if series==2.0:\n",
    "        return 'limite'\n",
    "    if series==3.0:\n",
    "        return 'légèrement'\n",
    "    if series==4.0:\n",
    "        return 'modérément'\n",
    "    if series==5.0:\n",
    "        return 'manifestement'\n",
    "    if series==6.0:\n",
    "        return 'gravement'\n",
    "    if series==7.0:\n",
    "        return 'parmi les patients les plus malades'\n",
    "    else:\n",
    "        return series\n",
    "\n",
    "smp['grav.cons']=smp['grav.cons'].apply(gravcons)\n",
    "\n",
    "def depcons(series):\n",
    "    if series==0.0:\n",
    "        return 'non'\n",
    "    if series==1.0:\n",
    "        return 'oui'\n",
    "    else:\n",
    "        return series\n",
    "\n",
    "smp['dep.cons']=smp['dep.cons'].apply(depcons)\n",
    "\n",
    "def agocons(series):\n",
    "    if series==0.0:\n",
    "        return 'non'\n",
    "    if series==1.0:\n",
    "        return 'oui'\n",
    "    else:\n",
    "        return series\n",
    "\n",
    "smp['ago.cons']=smp['ago.cons'].apply(agocons)\n",
    "\n",
    "def ptsdcons(series):\n",
    "    if series==0.0:\n",
    "        return 'non'\n",
    "    if series==1.0:\n",
    "        return 'oui'\n",
    "    else:\n",
    "        return series\n",
    "\n",
    "smp['ptsd.cons']=smp['ptsd.cons'].apply(ptsdcons)\n",
    "\n",
    "def alccons(series):\n",
    "    if series==0.0:\n",
    "        return 'non'\n",
    "    if series==1.0:\n",
    "        return 'oui'\n",
    "    else:\n",
    "        return series\n",
    "\n",
    "smp['alc.cons']=smp['alc.cons'].apply(alccons)\n",
    "\n",
    "def substcons(series):\n",
    "    if series==0.0:\n",
    "        return 'non'\n",
    "    if series==1.0:\n",
    "        return 'oui'\n",
    "    else:\n",
    "        return series\n",
    "\n",
    "smp['subst.cons']=smp['subst.cons'].apply(substcons)\n",
    "\n",
    "def sczcons(series):\n",
    "    if series==0.0:\n",
    "        return 'non'\n",
    "    if series==1.0:\n",
    "        return 'oui'\n",
    "    else:\n",
    "        return series\n",
    "\n",
    "smp['scz.cons']=smp['scz.cons'].apply(sczcons)\n",
    "\n",
    "def char(series):\n",
    "    if series==1.0:\n",
    "        return 'absent'\n",
    "    if series==2.0:\n",
    "        return 'léger'\n",
    "    if series==3.0:\n",
    "        return 'moyen'\n",
    "    if series==4.0:\n",
    "        return 'sévère'\n",
    "    else:\n",
    "        return series\n",
    "\n",
    "smp['char']=smp['char'].apply(char)\n",
    "\n",
    "def rs(series):\n",
    "    if series==1.0:\n",
    "        return 'faible'\n",
    "    if series==2.0:\n",
    "        return 'modéré'\n",
    "    if series==3.0:\n",
    "        return 'élevé'\n",
    "    else:\n",
    "        return series\n",
    "\n",
    "        \n",
    "smp['rs']=smp['rs'].apply(rs)\n",
    "\n",
    "def ed(series):\n",
    "    if series==1.0:\n",
    "        return 'faible'\n",
    "    if series==2.0:\n",
    "        return 'modéré'\n",
    "    if series==3.0:\n",
    "        return 'élevé'\n",
    "    else:\n",
    "        return series\n",
    "\n",
    "        \n",
    "smp['ed']=smp['ed'].apply(ed)\n",
    "\n",
    "def dr(series):\n",
    "    if series==1.0:\n",
    "        return 'faible'\n",
    "    if series==2.0:\n",
    "        return 'modéré'\n",
    "    if series==3.0:\n",
    "        return 'élevé'\n",
    "    else:\n",
    "        return series\n",
    "\n",
    "        \n",
    "smp['dr']=smp['dr'].apply(dr)\n",
    "\n",
    "def suicidehr(series):# Je suis pas sure de cette recodage\n",
    "    if series==0.0:\n",
    "        return 'non'\n",
    "    if series==1.0:\n",
    "        return 'oui'\n",
    "    else:\n",
    "        return series\n",
    "\n",
    "smp['suicide.hr']=smp['suicide.hr'].apply(suicidehr)\n",
    "\n",
    "def suicidepast(series):\n",
    "    if series==0.0:\n",
    "        return 'non'\n",
    "    if series==1.0:\n",
    "        return 'oui'\n",
    "    else:\n",
    "        return series\n",
    "\n",
    "smp['suicide.past']=smp['suicide.past'].apply(suicidepast)\n"
   ]
  },
  {
   "cell_type": "markdown",
   "metadata": {},
   "source": [
    "## SQ.3"
   ]
  },
  {
   "cell_type": "code",
   "execution_count": 8,
   "metadata": {},
   "outputs": [],
   "source": [
    "list1=smp.drop(['prof', 'duree', 'discip', 'ecole','separation', 'juge.enfant', 'place', 'abus', 'grav.cons', 'dep.cons','ago.cons', 'ptsd.cons', 'alc.cons', 'subst.cons', 'scz.cons', 'char','rs', 'ed', 'dr', 'suicide.s', 'suicide.hr', 'suicide.past'], axis=1)\n"
   ]
  },
  {
   "cell_type": "code",
   "execution_count": 9,
   "metadata": {},
   "outputs": [
    {
     "name": "stdout",
     "output_type": "stream",
     "text": [
      "      age  n.enfant  n.fratrie  dur.interv\n",
      "0    31.0       2.0          4         NaN\n",
      "1    49.0       7.0          3        70.0\n",
      "2    50.0       2.0          2         NaN\n",
      "3    47.0       0.0          6       105.0\n",
      "4    23.0       1.0          6         NaN\n",
      "..    ...       ...        ...         ...\n",
      "794  28.0       1.0          4        60.0\n",
      "795  44.0       1.0         12       105.0\n",
      "796  31.0       3.0          6       105.0\n",
      "797  38.0       0.0          1        75.0\n",
      "798  71.0       2.0          4        45.0\n",
      "\n",
      "[799 rows x 4 columns]\n"
     ]
    }
   ],
   "source": [
    "print(list1)"
   ]
  },
  {
   "cell_type": "code",
   "execution_count": 10,
   "metadata": {},
   "outputs": [
    {
     "data": {
      "text/html": [
       "<div>\n",
       "<style scoped>\n",
       "    .dataframe tbody tr th:only-of-type {\n",
       "        vertical-align: middle;\n",
       "    }\n",
       "\n",
       "    .dataframe tbody tr th {\n",
       "        vertical-align: top;\n",
       "    }\n",
       "\n",
       "    .dataframe thead th {\n",
       "        text-align: right;\n",
       "    }\n",
       "</style>\n",
       "<table border=\"1\" class=\"dataframe\">\n",
       "  <thead>\n",
       "    <tr style=\"text-align: right;\">\n",
       "      <th></th>\n",
       "      <th>age</th>\n",
       "      <th>n.enfant</th>\n",
       "      <th>n.fratrie</th>\n",
       "      <th>dur.interv</th>\n",
       "    </tr>\n",
       "  </thead>\n",
       "  <tbody>\n",
       "    <tr>\n",
       "      <td>count</td>\n",
       "      <td>797.000000</td>\n",
       "      <td>773.000000</td>\n",
       "      <td>799.000000</td>\n",
       "      <td>749.000000</td>\n",
       "    </tr>\n",
       "    <tr>\n",
       "      <td>mean</td>\n",
       "      <td>38.899624</td>\n",
       "      <td>1.755498</td>\n",
       "      <td>4.286608</td>\n",
       "      <td>61.891856</td>\n",
       "    </tr>\n",
       "    <tr>\n",
       "      <td>std</td>\n",
       "      <td>13.280978</td>\n",
       "      <td>1.834044</td>\n",
       "      <td>3.441485</td>\n",
       "      <td>19.669605</td>\n",
       "    </tr>\n",
       "    <tr>\n",
       "      <td>min</td>\n",
       "      <td>19.000000</td>\n",
       "      <td>0.000000</td>\n",
       "      <td>0.000000</td>\n",
       "      <td>0.000000</td>\n",
       "    </tr>\n",
       "    <tr>\n",
       "      <td>25%</td>\n",
       "      <td>28.000000</td>\n",
       "      <td>0.000000</td>\n",
       "      <td>2.000000</td>\n",
       "      <td>48.000000</td>\n",
       "    </tr>\n",
       "    <tr>\n",
       "      <td>50%</td>\n",
       "      <td>37.000000</td>\n",
       "      <td>1.000000</td>\n",
       "      <td>3.000000</td>\n",
       "      <td>60.000000</td>\n",
       "    </tr>\n",
       "    <tr>\n",
       "      <td>75%</td>\n",
       "      <td>48.000000</td>\n",
       "      <td>3.000000</td>\n",
       "      <td>6.000000</td>\n",
       "      <td>75.000000</td>\n",
       "    </tr>\n",
       "    <tr>\n",
       "      <td>max</td>\n",
       "      <td>83.000000</td>\n",
       "      <td>13.000000</td>\n",
       "      <td>21.000000</td>\n",
       "      <td>120.000000</td>\n",
       "    </tr>\n",
       "  </tbody>\n",
       "</table>\n",
       "</div>"
      ],
      "text/plain": [
       "              age    n.enfant   n.fratrie  dur.interv\n",
       "count  797.000000  773.000000  799.000000  749.000000\n",
       "mean    38.899624    1.755498    4.286608   61.891856\n",
       "std     13.280978    1.834044    3.441485   19.669605\n",
       "min     19.000000    0.000000    0.000000    0.000000\n",
       "25%     28.000000    0.000000    2.000000   48.000000\n",
       "50%     37.000000    1.000000    3.000000   60.000000\n",
       "75%     48.000000    3.000000    6.000000   75.000000\n",
       "max     83.000000   13.000000   21.000000  120.000000"
      ]
     },
     "execution_count": 10,
     "metadata": {},
     "output_type": "execute_result"
    }
   ],
   "source": [
    "list1.describe()"
   ]
  },
  {
   "cell_type": "markdown",
   "metadata": {},
   "source": [
    "## SQ.4"
   ]
  },
  {
   "cell_type": "code",
   "execution_count": 11,
   "metadata": {},
   "outputs": [
    {
     "data": {
      "text/plain": [
       "<matplotlib.axes._subplots.AxesSubplot at 0x1175065d0>"
      ]
     },
     "execution_count": 11,
     "metadata": {},
     "output_type": "execute_result"
    },
    {
     "data": {
      "image/png": "[encoded data removed]",
      "text/plain": [
       "<Figure size 432x288 with 1 Axes>"
      ]
     },
     "metadata": {
      "needs_background": "light"
     },
     "output_type": "display_data"
    }
   ],
   "source": [
    "smp.boxplot(column='age')"
   ]
  },
  {
   "cell_type": "markdown",
   "metadata": {},
   "source": [
    "## SQ.5"
   ]
  },
  {
   "cell_type": "code",
   "execution_count": 12,
   "metadata": {},
   "outputs": [
    {
     "data": {
      "text/html": [
       "<div>\n",
       "<style scoped>\n",
       "    .dataframe tbody tr th:only-of-type {\n",
       "        vertical-align: middle;\n",
       "    }\n",
       "\n",
       "    .dataframe tbody tr th {\n",
       "        vertical-align: top;\n",
       "    }\n",
       "\n",
       "    .dataframe thead th {\n",
       "        text-align: right;\n",
       "    }\n",
       "</style>\n",
       "<table border=\"1\" class=\"dataframe\">\n",
       "  <thead>\n",
       "    <tr style=\"text-align: right;\">\n",
       "      <th></th>\n",
       "      <th>age</th>\n",
       "      <th>prof</th>\n",
       "      <th>duree</th>\n",
       "      <th>discip</th>\n",
       "      <th>n.enfant</th>\n",
       "      <th>n.fratrie</th>\n",
       "      <th>ecole</th>\n",
       "      <th>separation</th>\n",
       "      <th>juge.enfant</th>\n",
       "      <th>place</th>\n",
       "      <th>...</th>\n",
       "      <th>subst.cons</th>\n",
       "      <th>scz.cons</th>\n",
       "      <th>char</th>\n",
       "      <th>rs</th>\n",
       "      <th>ed</th>\n",
       "      <th>dr</th>\n",
       "      <th>suicide.s</th>\n",
       "      <th>suicide.hr</th>\n",
       "      <th>suicide.past</th>\n",
       "      <th>dur.interv</th>\n",
       "    </tr>\n",
       "  </thead>\n",
       "  <tbody>\n",
       "    <tr>\n",
       "      <td>14</td>\n",
       "      <td>64.0</td>\n",
       "      <td>agriculteur</td>\n",
       "      <td>NaN</td>\n",
       "      <td>non</td>\n",
       "      <td>3.0</td>\n",
       "      <td>2</td>\n",
       "      <td>sans diplome</td>\n",
       "      <td>non</td>\n",
       "      <td>non</td>\n",
       "      <td>non</td>\n",
       "      <td>...</td>\n",
       "      <td>non</td>\n",
       "      <td>non</td>\n",
       "      <td>absent</td>\n",
       "      <td>faible</td>\n",
       "      <td>faible</td>\n",
       "      <td>élevé</td>\n",
       "      <td>0.0</td>\n",
       "      <td>non</td>\n",
       "      <td>non</td>\n",
       "      <td>80.0</td>\n",
       "    </tr>\n",
       "    <tr>\n",
       "      <td>311</td>\n",
       "      <td>42.0</td>\n",
       "      <td>agriculteur</td>\n",
       "      <td>1 à 5 ans</td>\n",
       "      <td>non</td>\n",
       "      <td>3.0</td>\n",
       "      <td>6</td>\n",
       "      <td>sans diplome</td>\n",
       "      <td>non</td>\n",
       "      <td>non</td>\n",
       "      <td>non</td>\n",
       "      <td>...</td>\n",
       "      <td>non</td>\n",
       "      <td>non</td>\n",
       "      <td>léger</td>\n",
       "      <td>faible</td>\n",
       "      <td>élevé</td>\n",
       "      <td>modéré</td>\n",
       "      <td>3.0</td>\n",
       "      <td>oui</td>\n",
       "      <td>non</td>\n",
       "      <td>NaN</td>\n",
       "    </tr>\n",
       "    <tr>\n",
       "      <td>390</td>\n",
       "      <td>36.0</td>\n",
       "      <td>agriculteur</td>\n",
       "      <td>1 à 5 ans</td>\n",
       "      <td>oui</td>\n",
       "      <td>3.0</td>\n",
       "      <td>4</td>\n",
       "      <td>CAP,BEP</td>\n",
       "      <td>oui</td>\n",
       "      <td>oui</td>\n",
       "      <td>oui</td>\n",
       "      <td>...</td>\n",
       "      <td>oui</td>\n",
       "      <td>non</td>\n",
       "      <td>absent</td>\n",
       "      <td>NaN</td>\n",
       "      <td>élevé</td>\n",
       "      <td>faible</td>\n",
       "      <td>0.0</td>\n",
       "      <td>non</td>\n",
       "      <td>non</td>\n",
       "      <td>NaN</td>\n",
       "    </tr>\n",
       "    <tr>\n",
       "      <td>441</td>\n",
       "      <td>79.0</td>\n",
       "      <td>agriculteur</td>\n",
       "      <td>5 ans ou plus</td>\n",
       "      <td>non</td>\n",
       "      <td>5.0</td>\n",
       "      <td>6</td>\n",
       "      <td>college</td>\n",
       "      <td>non</td>\n",
       "      <td>non</td>\n",
       "      <td>non</td>\n",
       "      <td>...</td>\n",
       "      <td>non</td>\n",
       "      <td>non</td>\n",
       "      <td>absent</td>\n",
       "      <td>modéré</td>\n",
       "      <td>faible</td>\n",
       "      <td>faible</td>\n",
       "      <td>0.0</td>\n",
       "      <td>non</td>\n",
       "      <td>non</td>\n",
       "      <td>85.0</td>\n",
       "    </tr>\n",
       "  </tbody>\n",
       "</table>\n",
       "<p>4 rows × 26 columns</p>\n",
       "</div>"
      ],
      "text/plain": [
       "      age         prof          duree discip  n.enfant  n.fratrie  \\\n",
       "14   64.0  agriculteur            NaN    non       3.0          2   \n",
       "311  42.0  agriculteur      1 à 5 ans    non       3.0          6   \n",
       "390  36.0  agriculteur      1 à 5 ans    oui       3.0          4   \n",
       "441  79.0  agriculteur  5 ans ou plus    non       5.0          6   \n",
       "\n",
       "            ecole separation juge.enfant place  ... subst.cons scz.cons  \\\n",
       "14   sans diplome        non         non   non  ...        non      non   \n",
       "311  sans diplome        non         non   non  ...        non      non   \n",
       "390       CAP,BEP        oui         oui   oui  ...        oui      non   \n",
       "441       college        non         non   non  ...        non      non   \n",
       "\n",
       "       char      rs      ed      dr suicide.s suicide.hr suicide.past  \\\n",
       "14   absent  faible  faible   élevé       0.0        non          non   \n",
       "311   léger  faible   élevé  modéré       3.0        oui          non   \n",
       "390  absent     NaN   élevé  faible       0.0        non          non   \n",
       "441  absent  modéré  faible  faible       0.0        non          non   \n",
       "\n",
       "    dur.interv  \n",
       "14        80.0  \n",
       "311        NaN  \n",
       "390        NaN  \n",
       "441       85.0  \n",
       "\n",
       "[4 rows x 26 columns]"
      ]
     },
     "execution_count": 12,
     "metadata": {},
     "output_type": "execute_result"
    }
   ],
   "source": [
    "smp.loc[(smp['prof']==\"agriculteur\")&(smp['n.enfant']>2.0),:]"
   ]
  },
  {
   "cell_type": "markdown",
   "metadata": {},
   "source": [
    "## SQ.6"
   ]
  },
  {
   "cell_type": "code",
   "execution_count": 13,
   "metadata": {},
   "outputs": [],
   "source": [
    "liste2=smp['prof'].value_counts()"
   ]
  },
  {
   "cell_type": "code",
   "execution_count": 14,
   "metadata": {},
   "outputs": [
    {
     "name": "stdout",
     "output_type": "stream",
     "text": [
      "ouvrier               227\n",
      "sans emploi           222\n",
      "employe               135\n",
      "artisan                90\n",
      "prof.intermediaire     58\n",
      "autre                  31\n",
      "cadre                  24\n",
      "agriculteur             6\n",
      "Name: prof, dtype: int64\n"
     ]
    }
   ],
   "source": [
    "print(liste2)"
   ]
  },
  {
   "cell_type": "code",
   "execution_count": 15,
   "metadata": {},
   "outputs": [
    {
     "data": {
      "text/plain": [
       "793"
      ]
     },
     "execution_count": 15,
     "metadata": {},
     "output_type": "execute_result"
    }
   ],
   "source": [
    "liste2.sum()\n"
   ]
  },
  {
   "cell_type": "code",
   "execution_count": 16,
   "metadata": {},
   "outputs": [],
   "source": [
    "liste2=(liste2/793)*100"
   ]
  },
  {
   "cell_type": "code",
   "execution_count": 17,
   "metadata": {},
   "outputs": [
    {
     "name": "stdout",
     "output_type": "stream",
     "text": [
      "ouvrier               28.625473\n",
      "sans emploi           27.994956\n",
      "employe               17.023960\n",
      "artisan               11.349306\n",
      "prof.intermediaire     7.313997\n",
      "autre                  3.909206\n",
      "cadre                  3.026482\n",
      "agriculteur            0.756620\n",
      "Name: prof, dtype: float64\n"
     ]
    }
   ],
   "source": [
    "print(liste2)"
   ]
  },
  {
   "cell_type": "code",
   "execution_count": 18,
   "metadata": {},
   "outputs": [],
   "source": [
    "# la catégorie ouvrier a le plus grand pourcentage, ainsi c'est la catégorie modale"
   ]
  },
  {
   "cell_type": "markdown",
   "metadata": {},
   "source": [
    "## SQ.7"
   ]
  },
  {
   "cell_type": "code",
   "execution_count": 19,
   "metadata": {},
   "outputs": [
    {
     "data": {
      "text/plain": [
       "<matplotlib.axes._subplots.AxesSubplot at 0x1a1a8c2fd0>"
      ]
     },
     "execution_count": 19,
     "metadata": {},
     "output_type": "execute_result"
    },
    {
     "data": {
      "image/png": "[encoded data removed]",
      "text/plain": [
       "<Figure size 432x288 with 1 Axes>"
      ]
     },
     "metadata": {},
     "output_type": "display_data"
    }
   ],
   "source": [
    "liste2.plot.pie()"
   ]
  },
  {
   "cell_type": "markdown",
   "metadata": {},
   "source": [
    "## SQ.8"
   ]
  },
  {
   "cell_type": "code",
   "execution_count": 20,
   "metadata": {},
   "outputs": [
    {
     "data": {
      "text/html": [
       "<div>\n",
       "<style scoped>\n",
       "    .dataframe tbody tr th:only-of-type {\n",
       "        vertical-align: middle;\n",
       "    }\n",
       "\n",
       "    .dataframe tbody tr th {\n",
       "        vertical-align: top;\n",
       "    }\n",
       "\n",
       "    .dataframe thead th {\n",
       "        text-align: right;\n",
       "    }\n",
       "</style>\n",
       "<table border=\"1\" class=\"dataframe\">\n",
       "  <thead>\n",
       "    <tr style=\"text-align: right;\">\n",
       "      <th>age</th>\n",
       "      <th>19.0</th>\n",
       "      <th>20.0</th>\n",
       "      <th>21.0</th>\n",
       "      <th>22.0</th>\n",
       "      <th>23.0</th>\n",
       "      <th>24.0</th>\n",
       "      <th>25.0</th>\n",
       "      <th>26.0</th>\n",
       "      <th>27.0</th>\n",
       "      <th>28.0</th>\n",
       "      <th>...</th>\n",
       "      <th>69.0</th>\n",
       "      <th>70.0</th>\n",
       "      <th>71.0</th>\n",
       "      <th>72.0</th>\n",
       "      <th>73.0</th>\n",
       "      <th>74.0</th>\n",
       "      <th>77.0</th>\n",
       "      <th>79.0</th>\n",
       "      <th>81.0</th>\n",
       "      <th>83.0</th>\n",
       "    </tr>\n",
       "    <tr>\n",
       "      <th>prof</th>\n",
       "      <th></th>\n",
       "      <th></th>\n",
       "      <th></th>\n",
       "      <th></th>\n",
       "      <th></th>\n",
       "      <th></th>\n",
       "      <th></th>\n",
       "      <th></th>\n",
       "      <th></th>\n",
       "      <th></th>\n",
       "      <th></th>\n",
       "      <th></th>\n",
       "      <th></th>\n",
       "      <th></th>\n",
       "      <th></th>\n",
       "      <th></th>\n",
       "      <th></th>\n",
       "      <th></th>\n",
       "      <th></th>\n",
       "      <th></th>\n",
       "      <th></th>\n",
       "    </tr>\n",
       "  </thead>\n",
       "  <tbody>\n",
       "    <tr>\n",
       "      <td>agriculteur</td>\n",
       "      <td>NaN</td>\n",
       "      <td>NaN</td>\n",
       "      <td>NaN</td>\n",
       "      <td>NaN</td>\n",
       "      <td>NaN</td>\n",
       "      <td>NaN</td>\n",
       "      <td>NaN</td>\n",
       "      <td>NaN</td>\n",
       "      <td>NaN</td>\n",
       "      <td>NaN</td>\n",
       "      <td>...</td>\n",
       "      <td>NaN</td>\n",
       "      <td>NaN</td>\n",
       "      <td>NaN</td>\n",
       "      <td>NaN</td>\n",
       "      <td>NaN</td>\n",
       "      <td>NaN</td>\n",
       "      <td>NaN</td>\n",
       "      <td>79.0</td>\n",
       "      <td>NaN</td>\n",
       "      <td>NaN</td>\n",
       "    </tr>\n",
       "    <tr>\n",
       "      <td>artisan</td>\n",
       "      <td>NaN</td>\n",
       "      <td>20.0</td>\n",
       "      <td>NaN</td>\n",
       "      <td>NaN</td>\n",
       "      <td>NaN</td>\n",
       "      <td>24.0</td>\n",
       "      <td>NaN</td>\n",
       "      <td>26.0</td>\n",
       "      <td>27.0</td>\n",
       "      <td>28.0</td>\n",
       "      <td>...</td>\n",
       "      <td>NaN</td>\n",
       "      <td>NaN</td>\n",
       "      <td>71.0</td>\n",
       "      <td>72.0</td>\n",
       "      <td>NaN</td>\n",
       "      <td>NaN</td>\n",
       "      <td>NaN</td>\n",
       "      <td>NaN</td>\n",
       "      <td>NaN</td>\n",
       "      <td>NaN</td>\n",
       "    </tr>\n",
       "    <tr>\n",
       "      <td>autre</td>\n",
       "      <td>19.0</td>\n",
       "      <td>20.0</td>\n",
       "      <td>21.0</td>\n",
       "      <td>NaN</td>\n",
       "      <td>23.0</td>\n",
       "      <td>24.0</td>\n",
       "      <td>25.0</td>\n",
       "      <td>26.0</td>\n",
       "      <td>27.0</td>\n",
       "      <td>NaN</td>\n",
       "      <td>...</td>\n",
       "      <td>NaN</td>\n",
       "      <td>70.0</td>\n",
       "      <td>71.0</td>\n",
       "      <td>NaN</td>\n",
       "      <td>NaN</td>\n",
       "      <td>NaN</td>\n",
       "      <td>NaN</td>\n",
       "      <td>NaN</td>\n",
       "      <td>NaN</td>\n",
       "      <td>NaN</td>\n",
       "    </tr>\n",
       "    <tr>\n",
       "      <td>cadre</td>\n",
       "      <td>NaN</td>\n",
       "      <td>NaN</td>\n",
       "      <td>NaN</td>\n",
       "      <td>NaN</td>\n",
       "      <td>NaN</td>\n",
       "      <td>NaN</td>\n",
       "      <td>25.0</td>\n",
       "      <td>NaN</td>\n",
       "      <td>NaN</td>\n",
       "      <td>NaN</td>\n",
       "      <td>...</td>\n",
       "      <td>NaN</td>\n",
       "      <td>NaN</td>\n",
       "      <td>NaN</td>\n",
       "      <td>NaN</td>\n",
       "      <td>NaN</td>\n",
       "      <td>74.0</td>\n",
       "      <td>77.0</td>\n",
       "      <td>NaN</td>\n",
       "      <td>NaN</td>\n",
       "      <td>NaN</td>\n",
       "    </tr>\n",
       "    <tr>\n",
       "      <td>employe</td>\n",
       "      <td>19.0</td>\n",
       "      <td>20.0</td>\n",
       "      <td>21.0</td>\n",
       "      <td>22.0</td>\n",
       "      <td>23.0</td>\n",
       "      <td>24.0</td>\n",
       "      <td>25.0</td>\n",
       "      <td>26.0</td>\n",
       "      <td>27.0</td>\n",
       "      <td>28.0</td>\n",
       "      <td>...</td>\n",
       "      <td>NaN</td>\n",
       "      <td>NaN</td>\n",
       "      <td>71.0</td>\n",
       "      <td>NaN</td>\n",
       "      <td>73.0</td>\n",
       "      <td>NaN</td>\n",
       "      <td>NaN</td>\n",
       "      <td>NaN</td>\n",
       "      <td>NaN</td>\n",
       "      <td>NaN</td>\n",
       "    </tr>\n",
       "    <tr>\n",
       "      <td>ouvrier</td>\n",
       "      <td>19.0</td>\n",
       "      <td>20.0</td>\n",
       "      <td>21.0</td>\n",
       "      <td>22.0</td>\n",
       "      <td>23.0</td>\n",
       "      <td>24.0</td>\n",
       "      <td>25.0</td>\n",
       "      <td>26.0</td>\n",
       "      <td>27.0</td>\n",
       "      <td>28.0</td>\n",
       "      <td>...</td>\n",
       "      <td>69.0</td>\n",
       "      <td>NaN</td>\n",
       "      <td>71.0</td>\n",
       "      <td>NaN</td>\n",
       "      <td>NaN</td>\n",
       "      <td>NaN</td>\n",
       "      <td>NaN</td>\n",
       "      <td>NaN</td>\n",
       "      <td>NaN</td>\n",
       "      <td>NaN</td>\n",
       "    </tr>\n",
       "    <tr>\n",
       "      <td>prof.intermediaire</td>\n",
       "      <td>19.0</td>\n",
       "      <td>NaN</td>\n",
       "      <td>NaN</td>\n",
       "      <td>22.0</td>\n",
       "      <td>NaN</td>\n",
       "      <td>NaN</td>\n",
       "      <td>NaN</td>\n",
       "      <td>26.0</td>\n",
       "      <td>27.0</td>\n",
       "      <td>28.0</td>\n",
       "      <td>...</td>\n",
       "      <td>NaN</td>\n",
       "      <td>NaN</td>\n",
       "      <td>NaN</td>\n",
       "      <td>NaN</td>\n",
       "      <td>NaN</td>\n",
       "      <td>NaN</td>\n",
       "      <td>NaN</td>\n",
       "      <td>NaN</td>\n",
       "      <td>NaN</td>\n",
       "      <td>NaN</td>\n",
       "    </tr>\n",
       "    <tr>\n",
       "      <td>sans emploi</td>\n",
       "      <td>19.0</td>\n",
       "      <td>20.0</td>\n",
       "      <td>21.0</td>\n",
       "      <td>22.0</td>\n",
       "      <td>23.0</td>\n",
       "      <td>24.0</td>\n",
       "      <td>25.0</td>\n",
       "      <td>26.0</td>\n",
       "      <td>27.0</td>\n",
       "      <td>28.0</td>\n",
       "      <td>...</td>\n",
       "      <td>NaN</td>\n",
       "      <td>NaN</td>\n",
       "      <td>NaN</td>\n",
       "      <td>72.0</td>\n",
       "      <td>73.0</td>\n",
       "      <td>74.0</td>\n",
       "      <td>77.0</td>\n",
       "      <td>NaN</td>\n",
       "      <td>81.0</td>\n",
       "      <td>83.0</td>\n",
       "    </tr>\n",
       "  </tbody>\n",
       "</table>\n",
       "<p>8 rows × 60 columns</p>\n",
       "</div>"
      ],
      "text/plain": [
       "age                 19.0  20.0  21.0  22.0  23.0  24.0  25.0  26.0  27.0  \\\n",
       "prof                                                                       \n",
       "agriculteur          NaN   NaN   NaN   NaN   NaN   NaN   NaN   NaN   NaN   \n",
       "artisan              NaN  20.0   NaN   NaN   NaN  24.0   NaN  26.0  27.0   \n",
       "autre               19.0  20.0  21.0   NaN  23.0  24.0  25.0  26.0  27.0   \n",
       "cadre                NaN   NaN   NaN   NaN   NaN   NaN  25.0   NaN   NaN   \n",
       "employe             19.0  20.0  21.0  22.0  23.0  24.0  25.0  26.0  27.0   \n",
       "ouvrier             19.0  20.0  21.0  22.0  23.0  24.0  25.0  26.0  27.0   \n",
       "prof.intermediaire  19.0   NaN   NaN  22.0   NaN   NaN   NaN  26.0  27.0   \n",
       "sans emploi         19.0  20.0  21.0  22.0  23.0  24.0  25.0  26.0  27.0   \n",
       "\n",
       "age                 28.0  ...  69.0  70.0  71.0  72.0  73.0  74.0  77.0  79.0  \\\n",
       "prof                      ...                                                   \n",
       "agriculteur          NaN  ...   NaN   NaN   NaN   NaN   NaN   NaN   NaN  79.0   \n",
       "artisan             28.0  ...   NaN   NaN  71.0  72.0   NaN   NaN   NaN   NaN   \n",
       "autre                NaN  ...   NaN  70.0  71.0   NaN   NaN   NaN   NaN   NaN   \n",
       "cadre                NaN  ...   NaN   NaN   NaN   NaN   NaN  74.0  77.0   NaN   \n",
       "employe             28.0  ...   NaN   NaN  71.0   NaN  73.0   NaN   NaN   NaN   \n",
       "ouvrier             28.0  ...  69.0   NaN  71.0   NaN   NaN   NaN   NaN   NaN   \n",
       "prof.intermediaire  28.0  ...   NaN   NaN   NaN   NaN   NaN   NaN   NaN   NaN   \n",
       "sans emploi         28.0  ...   NaN   NaN   NaN  72.0  73.0  74.0  77.0   NaN   \n",
       "\n",
       "age                 81.0  83.0  \n",
       "prof                            \n",
       "agriculteur          NaN   NaN  \n",
       "artisan              NaN   NaN  \n",
       "autre                NaN   NaN  \n",
       "cadre                NaN   NaN  \n",
       "employe              NaN   NaN  \n",
       "ouvrier              NaN   NaN  \n",
       "prof.intermediaire   NaN   NaN  \n",
       "sans emploi         81.0  83.0  \n",
       "\n",
       "[8 rows x 60 columns]"
      ]
     },
     "execution_count": 20,
     "metadata": {},
     "output_type": "execute_result"
    }
   ],
   "source": [
    "pd.crosstab(smp['prof'],smp['age'],values=smp['age'],aggfunc=pd.Series.mean)"
   ]
  },
  {
   "cell_type": "markdown",
   "metadata": {},
   "source": [
    "## SQ.9"
   ]
  },
  {
   "cell_type": "code",
   "execution_count": null,
   "metadata": {},
   "outputs": [],
   "source": []
  },
  {
   "cell_type": "markdown",
   "metadata": {},
   "source": [
    "## SQ.10"
   ]
  },
  {
   "cell_type": "code",
   "execution_count": null,
   "metadata": {},
   "outputs": [],
   "source": []
  },
  {
   "cell_type": "markdown",
   "metadata": {},
   "source": [
    "## SQ.11"
   ]
  },
  {
   "cell_type": "code",
   "execution_count": 21,
   "metadata": {},
   "outputs": [],
   "source": [
    "smp.dropna(inplace=True)"
   ]
  },
  {
   "cell_type": "code",
   "execution_count": 22,
   "metadata": {},
   "outputs": [
    {
     "name": "stdout",
     "output_type": "stream",
     "text": [
      "      age                prof          duree discip  n.enfant  n.fratrie  \\\n",
      "7    52.0             artisan  5 ans ou plus    non       2.0          9   \n",
      "8    42.0             ouvrier      1 à 5 ans    oui       1.0         12   \n",
      "12   21.0             employe      1 à 5 ans    non       0.0          3   \n",
      "13   40.0             artisan      1 à 5 ans    non       3.0          5   \n",
      "16   60.0  prof.intermediaire  5 ans ou plus    non       2.0          4   \n",
      "..    ...                 ...            ...    ...       ...        ...   \n",
      "793  27.0  prof.intermediaire      1 à 5 ans    non       2.0          0   \n",
      "795  44.0             ouvrier      1 à 5 ans    oui       1.0         12   \n",
      "796  31.0               cadre      1 à 5 ans    non       3.0          6   \n",
      "797  38.0             employe  5 ans ou plus    non       0.0          1   \n",
      "798  71.0               autre      1 à 5 ans    non       2.0          4   \n",
      "\n",
      "            ecole separation juge.enfant place  ... subst.cons scz.cons  \\\n",
      "7         college        non         non   non  ...        non      non   \n",
      "8    sans diplome        oui         oui   non  ...        oui      non   \n",
      "12        college        oui         oui   oui  ...        oui      non   \n",
      "13   sans diplome        non         oui   non  ...        non      non   \n",
      "16        college        oui         non   oui  ...        non      non   \n",
      "..            ...        ...         ...   ...  ...        ...      ...   \n",
      "793       college        oui         non   oui  ...        non      non   \n",
      "795       college        non         non   non  ...        non      non   \n",
      "796         Lycee        oui         oui   oui  ...        oui      non   \n",
      "797       CAP,BEP        non         non   non  ...        non      non   \n",
      "798  sans diplome        oui         non   non  ...        non      non   \n",
      "\n",
      "       char      rs      ed      dr suicide.s suicide.hr suicide.past  \\\n",
      "7    absent  modéré  modéré  modéré       0.0        non          non   \n",
      "8    sévère   élevé   élevé  faible       4.0        oui          oui   \n",
      "12   absent  modéré  modéré  modéré       0.0        non          non   \n",
      "13   absent  modéré  modéré  modéré       0.0        non          oui   \n",
      "16   absent  faible  modéré   élevé       0.0        non          non   \n",
      "..      ...     ...     ...     ...       ...        ...          ...   \n",
      "793  absent   élevé  faible  faible       0.0        non          non   \n",
      "795  absent  faible  faible  faible       0.0        non          oui   \n",
      "796   léger  faible  faible  faible       1.0        non          non   \n",
      "797  absent  faible  faible  faible       0.0        non          non   \n",
      "798  absent  faible  faible  faible       0.0        non          non   \n",
      "\n",
      "    dur.interv  \n",
      "7         84.0  \n",
      "8         78.0  \n",
      "12        95.0  \n",
      "13        90.0  \n",
      "16        90.0  \n",
      "..         ...  \n",
      "793       60.0  \n",
      "795      105.0  \n",
      "796      105.0  \n",
      "797       75.0  \n",
      "798       45.0  \n",
      "\n",
      "[403 rows x 26 columns]\n"
     ]
    }
   ],
   "source": [
    "print(smp)"
   ]
  },
  {
   "cell_type": "code",
   "execution_count": 23,
   "metadata": {},
   "outputs": [
    {
     "data": {
      "image/png": "[encoded data removed]",
      "text/plain": [
       "<Figure size 432x288 with 1 Axes>"
      ]
     },
     "metadata": {
      "needs_background": "light"
     },
     "output_type": "display_data"
    }
   ],
   "source": [
    "sns.distplot(smp['age'], kde=True);"
   ]
  },
  {
   "cell_type": "markdown",
   "metadata": {},
   "source": [
    "## SQ.13"
   ]
  },
  {
   "cell_type": "code",
   "execution_count": 40,
   "metadata": {},
   "outputs": [],
   "source": [
    "bins = [19.0, 28.0, 37.0, 48.0,83.0]\n",
    "smp['age_classe'] = pd.cut(smp['age'], bins)"
   ]
  },
  {
   "cell_type": "markdown",
   "metadata": {},
   "source": [
    "## SQ.14"
   ]
  },
  {
   "cell_type": "code",
   "execution_count": 46,
   "metadata": {},
   "outputs": [
    {
     "name": "stdout",
     "output_type": "stream",
     "text": [
      "(48.0, 83.0]    29.25\n",
      "(37.0, 48.0]    27.00\n",
      "(28.0, 37.0]    25.00\n",
      "(19.0, 28.0]    18.75\n",
      "Name: age_classe, dtype: float64\n"
     ]
    }
   ],
   "source": [
    "liste4=smp['age_classe'].value_counts()\n",
    "liste4=(liste4/400)*100\n",
    "print(liste4)\n"
   ]
  }
 ],
 "metadata": {
  "kernelspec": {
   "display_name": "Python 3",
   "language": "python",
   "name": "python3"
  },
  "language_info": {
   "codemirror_mode": {
    "name": "ipython",
    "version": 3
   },
   "file_extension": ".py",
   "mimetype": "text/x-python",
   "name": "python",
   "nbconvert_exporter": "python",
   "pygments_lexer": "ipython3",
   "version": "3.7.4"
  }
 },
 "nbformat": 4,
 "nbformat_minor": 2
}
